{
 "cells": [
  {
   "cell_type": "markdown",
   "metadata": {},
   "source": [
    "查看数组"
   ]
  },
  {
   "cell_type": "code",
   "execution_count": null,
   "metadata": {},
   "outputs": [],
   "source": [
    "import numpy as np\n",
    "\n",
    "# 假设你的.npy文件名为'my_array.npy'\n",
    "file_path = 'swallow_clip2.npy'\n",
    "\n",
    "# 使用numpy的load函数读取.npy文件\n",
    "array = np.load(file_path)\n",
    "\n",
    "# 打印读取的数组\n",
    "print(array)\n"
   ]
  },
  {
   "cell_type": "markdown",
   "metadata": {},
   "source": [
    "（主程序）加载&保存数组"
   ]
  },
  {
   "cell_type": "code",
   "execution_count": 13,
   "metadata": {},
   "outputs": [],
   "source": [
    "import numpy as np\n",
    "import json\n",
    "\n",
    "def convert_npy_to_json_and_save(npy_path, output_json_path):\n",
    "    # 加载.npy文件\n",
    "    arr = np.load(npy_path)\n",
    "    \n",
    "    # 将数组转换成列表\n",
    "    list_data = arr.tolist()\n",
    "    \n",
    "    # 将列表转换成JSON字符串\n",
    "    json_data = json.dumps(list_data)\n",
    "    \n",
    "    # 写入JSON数据到文件\n",
    "    with open(output_json_path, 'w') as file:\n",
    "        file.write(json_data)\n",
    "\n",
    "# 示例用法\n",
    "npy_file_path = 'swallow_clip1.npy'\n",
    "output_json_path = 'swallow_clip1.json'\n",
    "convert_npy_to_json_and_save(npy_file_path, output_json_path)\n"
   ]
  }
 ],
 "metadata": {
  "kernelspec": {
   "display_name": "xii",
   "language": "python",
   "name": "python3"
  },
  "language_info": {
   "codemirror_mode": {
    "name": "ipython",
    "version": 3
   },
   "file_extension": ".py",
   "mimetype": "text/x-python",
   "name": "python",
   "nbconvert_exporter": "python",
   "pygments_lexer": "ipython3",
   "version": "3.8.18"
  }
 },
 "nbformat": 4,
 "nbformat_minor": 2
}
